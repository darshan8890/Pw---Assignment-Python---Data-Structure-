{
  "nbformat": 4,
  "nbformat_minor": 0,
  "metadata": {
    "colab": {
      "provenance": []
    },
    "kernelspec": {
      "name": "python3",
      "display_name": "Python 3"
    },
    "language_info": {
      "name": "python"
    }
  },
  "cells": [
    {
      "cell_type": "markdown",
      "source": [
        "# **Data Types and Structures Questions**\n",
        "\n",
        "\n",
        "\n"
      ],
      "metadata": {
        "id": "e0vGv1RlFtgM"
      }
    },
    {
      "cell_type": "markdown",
      "source": [
        "Q1. What are data structures, and why are they important ?\n",
        "- Data structures organize, manage, and store data efficiently for easily access and modification of the data. For example it include arrays, linked lists, stacks, queues, trees, and graphs.\n",
        "- Why Are They Important?\n",
        "1. Efficient Management: Store and retrieve data quickly.\n",
        "2. Problem Solving: Simplify complex problems.\n",
        "3. Performance: Optimize memory and computation.\n",
        "5. Algorithm Support: Enable efficient algorithms.\n",
        "6. Real-World Use: Key in databases, networking, AI, etc."
      ],
      "metadata": {
        "id": "Zp6DomrxF6gZ"
      }
    },
    {
      "cell_type": "markdown",
      "source": [
        "Q2.  Explain the difference between mutable and immutable data types with examples.\n",
        "\n",
        "- Mutable Data Types = The Mutable Data Type means it can be changed or modified after the creation of the data type also. Example of the Mutable data types are Lists, dictionaries, sets.\n",
        "Example Code:-\n",
        "```\n",
        "my_list = [1, 2, 3]\n",
        "my_list[0] = 10  # List is modified\n",
        "print(my_list)  # Output: [10, 2, 3]\n",
        "```\n",
        "\n",
        "- Immutable Data Types = The Immutable Data Type means it can not be changed or modified after the creation of the data type also. Example of the \"Immutable Data Types\" are Strings, Tuples, Integers.\n",
        "Example Code:-\n",
        "```\n",
        "my_tuple = (1, 2, 3)\n",
        "my_tuple[0] = 10  # Error: Tuples are immutable\n",
        "```\n",
        "\n",
        "\n"
      ],
      "metadata": {
        "id": "DOLYFYPQIX20"
      }
    },
    {
      "cell_type": "markdown",
      "source": [
        "Q3. What are the main differences between lists and tuples in Python?\n",
        "- Lists = The \"Lists\" in python are \"Mutable\" which means we can change the data type. The Performance of the lists are slower due to the mutable option in it. The lists are suitable for the dynamic data. Lists consumes more memory. The syntax for the List is [1, 2, 3] (square brackets).\n",
        "For Example:-\n",
        "```\n",
        "my_list = [1, 2, 3]\n",
        "my_list[0] = 10  # List modified\n",
        "print(my_list)  # Output: [10, 2, 3]\n",
        "```\n",
        "\n",
        "- Tuples = The \"Tuples\" in python are \"Immutable\" which means we cannot change the data type in it. The Performance of the Tuples are Faster as compare to Tuples, because the Tuples are Immutable. The Tuples are mostly suitable for the static data. Tuples consumes less memory. The syntax for the Tuples is (1, 2, 3) (parentheses).\n",
        "For Example:-\n",
        "```\n",
        "my_tuple = (1, 2, 3)\n",
        "my_tuple[0] = 10  # Error: Tuples are immutable\n",
        "```\n",
        "\n",
        "\n",
        "\n"
      ],
      "metadata": {
        "id": "2E2t91e_WOx9"
      }
    },
    {
      "cell_type": "markdown",
      "source": [
        "Q4. Describe how dictionaries store data.\n",
        "\n",
        "- Dictionaries in Python store data as key-value pairs using a data structure called a hash table. Each key in a dictionary is hashed using a hash function, which computes a unique index in an underlying array where the associated value is stored.\n",
        "- This hashing mechanism allows for efficient lookups, insertions, and deletions, typically operating in constant time.\n",
        "- Keys must be immutable types, such as strings, numbers, or tuples, while values can be of any data type, whether mutable or immutable.\n",
        "- For Example =\n",
        "```\n",
        "my_dict = {\"name\": \"Alice\", \"age\": 25}\n",
        "print(my_dict[\"name\"])  # Accesses value \"Alice\" using key \"name\"\n",
        "```\n",
        "\n"
      ],
      "metadata": {
        "id": "tW2ELkpMYOZW"
      }
    },
    {
      "cell_type": "markdown",
      "source": [
        "Q5. Why might you use a set instead of a list in Python?\n",
        "\n",
        "- We might use a set instead of a list in Python when we need to store unique elements and perform operations like membership checks or set-based computations efficiently. Below are key reasons to prefer sets over lists:\n",
        "1. Uniqueness of Elements = A set automatically removes duplicate entries, ensuring all elements are unique. Example:-\n",
        "```\n",
        "my_set = {1, 2, 2, 3}\n",
        "print(my_set)  # Output: {1, 2, 3}\n",
        "```\n",
        "2. Faster Membership Tests = Sets use a hash table internally, making membership checks (x in set) faster than lists, especially for large datasets.\n",
        "For Example =\n",
        "```\n",
        "my_set = {1, 2, 3}\n",
        "print(2 in my_set)  # Output: True\n",
        "```\n",
        "\n",
        "3. Efficient Set Operations = Sets support mathematical operations like union, intersection, and difference directly and efficiently.\n",
        "For Example =\n",
        "```\n",
        "set1 = {1, 2, 3}\n",
        "set2 = {3, 4, 5}\n",
        "print(set1 & set2)  # Output: {3} (Intersection)\n",
        "```\n",
        "\n",
        "\n",
        "\n",
        "\n",
        "\n",
        "\n",
        "\n",
        "\n"
      ],
      "metadata": {
        "id": "8OMt_waZYyT2"
      }
    },
    {
      "cell_type": "markdown",
      "source": [
        "**Q6.** What is a string in Python, and how is it different from a list ?\n",
        "- A string in Python is a sequence of characters enclosed in quotes (', \", or '''). It is an immutable data type, meaning its contents cannot be changed after creation. Strings are used to represent textual data such as words, sentences, or other character sequences.\n",
        "- Differences from a List:-\n",
        "1. Mutability: Strings are immutable, whereas lists are mutable. You cannot modify a string in place, but you can modify a list.\n",
        "2. Data Types: Strings can only store characters, while lists can hold elements of any data type.\n",
        "3. Operations: Strings support operations like concatenation, slicing, and formatting, while lists allow more diverse operations like element addition, removal, and rearrangement.\n",
        "4. Purpose: Strings are primarily for handling text, while lists are versatile containers for multiple data types and structures.\n",
        ""
      ],
      "metadata": {
        "id": "yNqb4d9EZrOA"
      }
    },
    {
      "cell_type": "markdown",
      "source": [
        "Q7. How do tuples ensure data integrity in Python ?\n",
        "- Tuples ensure data integrity in Python by being immutable, meaning their contents cannot be altered after creation. This prevents accidental modification, making them ideal for storing constant data or as keys in dictionaries, ensuring stability and reliability in data storage and access."
      ],
      "metadata": {
        "id": "WUGthrzta2Ym"
      }
    },
    {
      "cell_type": "markdown",
      "source": [
        "Q8. What is a hash table, and how does it relate to dictionaries in Python ?\n",
        "-\n",
        "A hash table is a data structure that stores key-value pairs, where each key is hashed using a hash function to compute an index in an array. This allows for fast retrieval of values based on their keys.\n",
        "\n",
        "- In Python, dictionaries are implemented using hash tables. When you access a dictionary, Python uses the hash of the key to quickly find the associated value, making lookups efficient with an average time complexity of O(1)."
      ],
      "metadata": {
        "id": "m8HrxtvWbH0V"
      }
    },
    {
      "cell_type": "markdown",
      "source": [
        "Q9. Can lists contain different data types in Python ?\n",
        "- Yes, lists in Python can contain different data types. A single list can store a mix of data types such as integers, strings, floats, and even other lists or objects. For example:-\n",
        "```\n",
        "my_list = [1, \"hello\", 3.14, [2, 3]]\n",
        "print(my_list)  # Output: [1, 'hello', 3.14, [2, 3]]\n",
        "```\n",
        "This flexibility makes lists a versatile container for various types of data in Python.\n",
        "\n"
      ],
      "metadata": {
        "id": "6_VA1X6VbXNm"
      }
    },
    {
      "cell_type": "markdown",
      "source": [
        "Q10. Explain why strings are immutable in Python ?\n",
        "-\n",
        "Strings are immutable in Python to ensure data integrity and performance. Immutability allows strings to be hashable, making them usable as keys in dictionaries. It also enables optimizations, such as reusing memory for identical strings and ensuring that the value of a string cannot be accidentally changed, preventing bugs and errors in programs."
      ],
      "metadata": {
        "id": "GxLDZ0TJbqSd"
      }
    },
    {
      "cell_type": "markdown",
      "source": [
        "Q11. What advantages do dictionaries offer over lists for certain tasks ?\n",
        "- Dictionaries offer several advantages over lists for certain tasks, particularly when fast lookups, unique keys, and efficient data retrieval are required.\n",
        "- dictionaries store data as key-value pairs, enabling unique identification of values and eliminating duplicates.\n",
        "- Lists, on the other hand, are better for ordered collections or when the order of elements matters."
      ],
      "metadata": {
        "id": "YchjrAj2b3as"
      }
    },
    {
      "cell_type": "markdown",
      "source": [
        "Q12.  Describe a scenario where using a tuple would be preferable over a list.\n",
        "- A tuple would be preferable over a list in scenarios where data integrity and immutability are important. For example, if you are storing geographic coordinates (latitude and longitude) of a location, a tuple would be ideal because the values should not change after being set. The immutability of tuples ensures that the coordinates cannot be accidentally modified, maintaining data consistency.\n",
        "-  The tuples are faster and use less memory than lists, they are a good choice for small, fixed collections of data that should remain constant, like database records or function return values."
      ],
      "metadata": {
        "id": "aJpSoYsicJGc"
      }
    },
    {
      "cell_type": "markdown",
      "source": [
        "Q13.  How do sets handle duplicate values in Python ?\n",
        "- Sets in Python automatically remove duplicate values. When you try to add a duplicate element to a set, it simply ignores it, ensuring that each element in a set is unique. This behavior makes sets ideal for storing collections of items where uniqueness is important. For example:-\n",
        "```\n",
        "my_set = {1, 2, 3, 3, 4}\n",
        "print(my_set)  # Output: {1, 2, 3, 4}\n",
        "```\n",
        "\n",
        "\n"
      ],
      "metadata": {
        "id": "42xzksfoci3t"
      }
    },
    {
      "cell_type": "markdown",
      "source": [
        "Q14.  How does the “in” keyword work differently for lists and dictionaries ?\n",
        "- For lists, the \"in\" keyword checks if a specific element exists in the list. It performs a linear search, which means it checks each item one by one.\n",
        "For Example:-\n",
        "```\n",
        "my_list = [1, 2, 3]\n",
        "print(2 in my_list)  # Output: True\n",
        "```\n",
        "\n",
        "- For dictionaries, the \"in\" keyword checks if a specific key exists in the dictionary, not the value. It uses a more efficient hash table lookup, offering faster search times. For Example:-\n",
        "```\n",
        "my_dict = {\"name\": \"Alice\", \"age\": 25}\n",
        "print(\"name\" in my_dict)  # Output: True\n",
        "```\n",
        "\n",
        "\n"
      ],
      "metadata": {
        "id": "7zBfG4n3czCN"
      }
    },
    {
      "cell_type": "markdown",
      "source": [
        "Q15. Can you modify the elements of a tuple? Explain why or why not.\n",
        "- No, you cannot modify the elements of a tuple because tuples are immutable. Once created, their contents cannot be changed. This ensures data integrity and makes them suitable for constant values."
      ],
      "metadata": {
        "id": "YCeUbmdPdKkv"
      }
    },
    {
      "cell_type": "markdown",
      "source": [
        "Q16.  What is a nested dictionary, and give an example of its use case ?\n",
        "- A nested dictionary is a dictionary where the values are other dictionaries, allowing the creation of hierarchical data structures. This is useful when you need to represent complex relationships, such as storing information about multiple items with related details.\n",
        "- Example Use Case:-\n",
        "```\n",
        "students = {\n",
        "    \"Alice\": {\"Math\": 90, \"English\": 85},\n",
        "    \"Bob\": {\"Math\": 80, \"English\": 78}\n",
        "}\n",
        "```\n",
        "\n"
      ],
      "metadata": {
        "id": "jHwqTvT_fCBW"
      }
    },
    {
      "cell_type": "markdown",
      "source": [
        "Q17.  Describe the time complexity of accessing elements in a dictionary.\n",
        "- Accessing an element in a dictionary is very fast, taking about the same time regardless of how many items are in the dictionary. This is because dictionaries use a method called hashing to quickly find the value associated with a key."
      ],
      "metadata": {
        "id": "t_8gdEUlfUIk"
      }
    },
    {
      "cell_type": "markdown",
      "source": [
        "Q18. In what situations are lists preferred over dictionaries?\n",
        "- Lists are preferred over dictionaries when:\n",
        "1. Order Matters: Lists maintain the order of elements, while dictionaries don’t guarantee order.\n",
        "2. Indexing: When you need to access elements by their position using an index, lists are ideal.\n",
        "3. Allowing Duplicates: Lists can store multiple occurrences of the same value, unlike dictionaries which require unique keys.\n",
        "4. Simple Data: For simple collections of items (like numbers or names), lists are more straightforward than dictionaries."
      ],
      "metadata": {
        "id": "MBgHjUzBfl1k"
      }
    },
    {
      "cell_type": "markdown",
      "source": [
        "Q19. Why are dictionaries considered unordered, and how does that affect data retrieval ?\n",
        "\n",
        "- Dictionaries are considered unordered because, technically, their data is stored using a method called hashing, not in a specific order. While Python 3.7+ keeps the order of insertion, it's not the main feature of dictionaries.\n",
        "- Means you can't access dictionary elements by their position like you can with a list. Instead, you use the key to directly get the value. The data retrieval is fast because dictionaries use the key’s hash to quickly find the corresponding value, but the order of the items doesn’t matter."
      ],
      "metadata": {
        "id": "70fzlsMCf7_V"
      }
    },
    {
      "cell_type": "markdown",
      "source": [
        "Q20. Explain the difference between a list and a dictionary in terms of data retrieval.\n",
        "- Lists = In a list, elements are retrieved using their index, which is a numerical position in the list. For example, my_list[2] accesses the third element in the list. Lists maintain the order of elements and allow duplicates, meaning the order of retrieval follows the sequence of the elements.\n",
        "\n",
        "- Dictionary = In a dictionary, elements are retrieved using a key. Each element is a key-value pair, and the value is accessed by specifying the key, like my_dict[\"key\"]. Dictionaries do not rely on order and ensure fast access through hashing. Unlike lists, dictionaries require unique keys for each element."
      ],
      "metadata": {
        "id": "OD_cG9qVgRR8"
      }
    },
    {
      "cell_type": "markdown",
      "source": [
        "# **Practical** **Questions**"
      ],
      "metadata": {
        "id": "hqbtZ2YXguyt"
      }
    },
    {
      "cell_type": "code",
      "source": [
        "# Q1. Write a code to create a string with your name and print it\n",
        "\n",
        "name = \"Rahul\"\n",
        "print(name)"
      ],
      "metadata": {
        "colab": {
          "base_uri": "https://localhost:8080/"
        },
        "id": "CIUV-Mxwjpnu",
        "outputId": "440838a5-94a5-4181-8604-f7e326de013d"
      },
      "execution_count": 1,
      "outputs": [
        {
          "output_type": "stream",
          "name": "stdout",
          "text": [
            "Rahul\n"
          ]
        }
      ]
    },
    {
      "cell_type": "code",
      "source": [
        "# Q2. Write a code to find the length of the string \"Hello World\"\n",
        "\n",
        "string = \"Hello World\"\n",
        "length = len(string)\n",
        "print(length)"
      ],
      "metadata": {
        "colab": {
          "base_uri": "https://localhost:8080/"
        },
        "id": "Q4ZWam2Zj0UX",
        "outputId": "848cd906-3aa6-4a80-d088-3b2098f42aa8"
      },
      "execution_count": 4,
      "outputs": [
        {
          "output_type": "stream",
          "name": "stdout",
          "text": [
            "11\n"
          ]
        }
      ]
    },
    {
      "cell_type": "code",
      "source": [
        "# Q3. Write a code to slice the first 3 characters from the string \"Python Programming\".\n",
        "\n",
        "string = \"Python Programming\"\n",
        "sliced_string = string[:3]\n",
        "print(sliced_string)"
      ],
      "metadata": {
        "colab": {
          "base_uri": "https://localhost:8080/"
        },
        "id": "uFMg8UQKj6nb",
        "outputId": "c40c3e5d-b1a1-46e8-a10b-00945681c559"
      },
      "execution_count": 6,
      "outputs": [
        {
          "output_type": "stream",
          "name": "stdout",
          "text": [
            "Pyt\n"
          ]
        }
      ]
    },
    {
      "cell_type": "code",
      "source": [
        "# Q4.  Write a code to convert the string \"hello\" to uppercase.\n",
        "\n",
        "string = \"hello\"\n",
        "uppercase_string = string.upper()\n",
        "print(uppercase_string)"
      ],
      "metadata": {
        "colab": {
          "base_uri": "https://localhost:8080/"
        },
        "id": "d3lqNG0EkHo0",
        "outputId": "b5657c26-f33b-4456-a4a6-490f2c2b668c"
      },
      "execution_count": 8,
      "outputs": [
        {
          "output_type": "stream",
          "name": "stdout",
          "text": [
            "HELLO\n"
          ]
        }
      ]
    },
    {
      "cell_type": "code",
      "source": [
        "# Q5. Write a code to replace the word \"apple\" with \"orange\" in the string \"I like apple\".\n",
        "\n",
        "string = \"I like apple\"\n",
        "new_string = string.replace(\"apple\", \"orange\")\n",
        "print(new_string)"
      ],
      "metadata": {
        "colab": {
          "base_uri": "https://localhost:8080/"
        },
        "id": "wY_aa64xkRV8",
        "outputId": "b0f8c44b-e4e0-41e5-80e2-c177c9d520ce"
      },
      "execution_count": 10,
      "outputs": [
        {
          "output_type": "stream",
          "name": "stdout",
          "text": [
            "I like orange\n"
          ]
        }
      ]
    },
    {
      "cell_type": "code",
      "source": [
        "# Q6. Write a code to create a list with numbers 1 to 5 and print it.\n",
        "\n",
        "numbers = [1, 2, 3, 4, 5]\n",
        "print(numbers)"
      ],
      "metadata": {
        "colab": {
          "base_uri": "https://localhost:8080/"
        },
        "id": "Gku2NS-zkazz",
        "outputId": "6b402e4b-5dff-46d8-a83d-bd7d5699de34"
      },
      "execution_count": 12,
      "outputs": [
        {
          "output_type": "stream",
          "name": "stdout",
          "text": [
            "[1, 2, 3, 4, 5]\n"
          ]
        }
      ]
    },
    {
      "cell_type": "code",
      "source": [
        "# Q7. Write a code to append the number 10 to the list [1, 2, 3, 4].\n",
        "\n",
        "numbers = [1, 2, 3, 4]\n",
        "numbers.append(10)\n",
        "print(numbers)"
      ],
      "metadata": {
        "colab": {
          "base_uri": "https://localhost:8080/"
        },
        "id": "L15jglV_kkSb",
        "outputId": "32e03020-ff0d-4d48-9481-28e14fba2fd6"
      },
      "execution_count": 13,
      "outputs": [
        {
          "output_type": "stream",
          "name": "stdout",
          "text": [
            "[1, 2, 3, 4, 10]\n"
          ]
        }
      ]
    },
    {
      "cell_type": "code",
      "source": [
        "# Q8. Write a code to remove the number 3 from the list [1, 2, 3, 4, 5].\n",
        "\n",
        "numbers = [1, 2, 3, 4, 5]\n",
        "numbers.remove(3)\n",
        "print(numbers)"
      ],
      "metadata": {
        "colab": {
          "base_uri": "https://localhost:8080/"
        },
        "id": "GFyemXwskveb",
        "outputId": "1b704a10-1021-4cac-9822-ae4fd59903f8"
      },
      "execution_count": 14,
      "outputs": [
        {
          "output_type": "stream",
          "name": "stdout",
          "text": [
            "[1, 2, 4, 5]\n"
          ]
        }
      ]
    },
    {
      "cell_type": "code",
      "source": [
        "# Q9. Write a code to access the second element in the list ['a', 'b', 'c', 'd'].\n",
        "\n",
        "letters = ['a', 'b', 'c', 'd']\n",
        "second_element = letters[1]\n",
        "print(second_element)"
      ],
      "metadata": {
        "colab": {
          "base_uri": "https://localhost:8080/"
        },
        "id": "aaNpD5ljk5pb",
        "outputId": "1f6314d3-dbbe-4bc0-9b1a-d27180617d1a"
      },
      "execution_count": 15,
      "outputs": [
        {
          "output_type": "stream",
          "name": "stdout",
          "text": [
            "b\n"
          ]
        }
      ]
    },
    {
      "cell_type": "code",
      "source": [
        "# Q10. Write a code to reverse the list [10, 20, 30, 40, 50].\n",
        "\n",
        "numbers = [10, 20, 30, 40, 50]\n",
        "numbers.reverse()\n",
        "print(numbers)"
      ],
      "metadata": {
        "colab": {
          "base_uri": "https://localhost:8080/"
        },
        "id": "Wh09RHCalICL",
        "outputId": "b5ae7957-4654-4abb-ffd8-c6793717c2cf"
      },
      "execution_count": 16,
      "outputs": [
        {
          "output_type": "stream",
          "name": "stdout",
          "text": [
            "[50, 40, 30, 20, 10]\n"
          ]
        }
      ]
    },
    {
      "cell_type": "code",
      "source": [
        "# Q11. Write a code to create a tuple with the elements 10, 20, 30 and print it.\n",
        "\n",
        "my_tuple = (10, 20, 30)\n",
        "print(my_tuple)"
      ],
      "metadata": {
        "colab": {
          "base_uri": "https://localhost:8080/"
        },
        "id": "_fBjJ7RklOgT",
        "outputId": "9ee9c52b-049d-4007-da41-1bd68f9aa35f"
      },
      "execution_count": 17,
      "outputs": [
        {
          "output_type": "stream",
          "name": "stdout",
          "text": [
            "(10, 20, 30)\n"
          ]
        }
      ]
    },
    {
      "cell_type": "code",
      "source": [
        "# Q12. Write a code to access the first element of the tuple ('apple', 'banana', 'cherry').\n",
        "\n",
        "my_tuple = ('apple', 'banana', 'cherry')\n",
        "first_element = my_tuple[0]\n",
        "print(first_element)"
      ],
      "metadata": {
        "colab": {
          "base_uri": "https://localhost:8080/"
        },
        "id": "VmHlnM5plYDz",
        "outputId": "7e914c10-74a9-4bc4-cb20-083d1f629ef5"
      },
      "execution_count": 18,
      "outputs": [
        {
          "output_type": "stream",
          "name": "stdout",
          "text": [
            "apple\n"
          ]
        }
      ]
    },
    {
      "cell_type": "code",
      "source": [
        "# Q13. Write a code to count how many times the number 2 appears in the tuple (1, 2, 3, 2, 4, 2).\n",
        "\n",
        "my_tuple = (1, 2, 3, 2, 4, 2)\n",
        "count_of_2 = my_tuple.count(2)\n",
        "print(count_of_2)"
      ],
      "metadata": {
        "colab": {
          "base_uri": "https://localhost:8080/"
        },
        "id": "u9yn5eF8lodz",
        "outputId": "3e632141-6aab-4e0a-c0b3-60a5cf6341ee"
      },
      "execution_count": 19,
      "outputs": [
        {
          "output_type": "stream",
          "name": "stdout",
          "text": [
            "3\n"
          ]
        }
      ]
    },
    {
      "cell_type": "code",
      "source": [
        "# Q14. Write a code to find the index of the element \"cat\" in the tuple ('dog', 'cat', 'rabbit').\n",
        "\n",
        "my_tuple = ('dog', 'cat', 'rabbit')\n",
        "index_of_cat = my_tuple.index('cat')\n",
        "print(index_of_cat)"
      ],
      "metadata": {
        "colab": {
          "base_uri": "https://localhost:8080/"
        },
        "id": "w5mksD0tlyI7",
        "outputId": "09b85b23-ddd1-4329-bf60-00efdd42c96c"
      },
      "execution_count": 20,
      "outputs": [
        {
          "output_type": "stream",
          "name": "stdout",
          "text": [
            "1\n"
          ]
        }
      ]
    },
    {
      "cell_type": "code",
      "source": [
        "# Q15. Write a code to check if the element \"banana\" is in the tuple ('apple', 'orange', 'banana').\n",
        "\n",
        "my_tuple = ('apple', 'orange', 'banana')\n",
        "is_banana_in_tuple = 'banana' in my_tuple\n",
        "print(is_banana_in_tuple)"
      ],
      "metadata": {
        "colab": {
          "base_uri": "https://localhost:8080/"
        },
        "id": "AkkWpyLhl7O7",
        "outputId": "71ed56fd-6c73-4919-de3a-da9a06b1d9bc"
      },
      "execution_count": 21,
      "outputs": [
        {
          "output_type": "stream",
          "name": "stdout",
          "text": [
            "True\n"
          ]
        }
      ]
    },
    {
      "cell_type": "code",
      "source": [
        "# Q16. Write a code to create a set with the elements 1, 2, 3, 4, 5 and print it.\n",
        "\n",
        "my_set = {1, 2, 3, 4, 5}\n",
        "print(my_set)"
      ],
      "metadata": {
        "colab": {
          "base_uri": "https://localhost:8080/"
        },
        "id": "m-HdyoqOmDpz",
        "outputId": "6167c5c0-2cd7-4340-d19b-87638390d47d"
      },
      "execution_count": 22,
      "outputs": [
        {
          "output_type": "stream",
          "name": "stdout",
          "text": [
            "{1, 2, 3, 4, 5}\n"
          ]
        }
      ]
    },
    {
      "cell_type": "code",
      "source": [
        "# Q17. Write a code to add the element 6 to the set {1, 2, 3, 4}.\n",
        "\n",
        "my_set = {1, 2, 3, 4}\n",
        "my_set.add(6)\n",
        "print(my_set)"
      ],
      "metadata": {
        "colab": {
          "base_uri": "https://localhost:8080/"
        },
        "id": "BgnJo1pImKHb",
        "outputId": "2cea579c-afc2-49c2-81b3-59f35cc79f8a"
      },
      "execution_count": 23,
      "outputs": [
        {
          "output_type": "stream",
          "name": "stdout",
          "text": [
            "{1, 2, 3, 4, 6}\n"
          ]
        }
      ]
    },
    {
      "cell_type": "code",
      "source": [
        "# Q18. Write a code to create a tuple with the elements 10, 20, 30 and print it.\n",
        "\n",
        "my_tuple = (10, 20, 30)\n",
        "print(my_tuple)"
      ],
      "metadata": {
        "colab": {
          "base_uri": "https://localhost:8080/"
        },
        "id": "ExHabNkxm2ny",
        "outputId": "49840816-e2f8-4493-a8d9-ceca2f21834c"
      },
      "execution_count": 24,
      "outputs": [
        {
          "output_type": "stream",
          "name": "stdout",
          "text": [
            "(10, 20, 30)\n"
          ]
        }
      ]
    },
    {
      "cell_type": "code",
      "source": [
        "# Q19. Write a code to access the first element of the tuple ('apple', 'banana', 'cherry')\n",
        "\n",
        "my_tuple = ('apple', 'banana', 'cherry')\n",
        "first_element = my_tuple[0]\n",
        "print(first_element)"
      ],
      "metadata": {
        "colab": {
          "base_uri": "https://localhost:8080/"
        },
        "id": "pMSyCGVGnEhD",
        "outputId": "8cbbc614-3c0c-4570-a148-3d07629f0c14"
      },
      "execution_count": 26,
      "outputs": [
        {
          "output_type": "stream",
          "name": "stdout",
          "text": [
            "apple\n"
          ]
        }
      ]
    },
    {
      "cell_type": "code",
      "source": [
        "# Q20. Write a code to count how many times the number 2 appears in the tuple (1, 2, 3, 2, 4, 2).\n",
        "\n",
        "my_tuple = (1, 2, 3, 2, 4, 2)\n",
        "count_of_2 = my_tuple.count(2)\n",
        "print(count_of_2)"
      ],
      "metadata": {
        "colab": {
          "base_uri": "https://localhost:8080/"
        },
        "id": "bFtNCY3NnOMT",
        "outputId": "17783a20-fa10-4d05-edca-07b690fc1986"
      },
      "execution_count": 27,
      "outputs": [
        {
          "output_type": "stream",
          "name": "stdout",
          "text": [
            "3\n"
          ]
        }
      ]
    },
    {
      "cell_type": "code",
      "source": [
        "# Q21. Write a code to find the index of the element \"cat\" in the tuple ('dog', 'cat', 'rabbit').\n",
        "\n",
        "my_tuple = ('dog', 'cat', 'rabbit')\n",
        "index_of_cat = my_tuple.index('cat')\n",
        "print(index_of_cat)"
      ],
      "metadata": {
        "colab": {
          "base_uri": "https://localhost:8080/"
        },
        "id": "yAeT8wFqnlqz",
        "outputId": "f5533370-43a9-4965-a151-cccb00852dfc"
      },
      "execution_count": 28,
      "outputs": [
        {
          "output_type": "stream",
          "name": "stdout",
          "text": [
            "1\n"
          ]
        }
      ]
    },
    {
      "cell_type": "code",
      "source": [
        "# Q22. Write a code to check if the element \"banana\" is in the tuple ('apple', 'orange', 'banana').\n",
        "\n",
        "my_tuple = ('apple', 'orange', 'banana')\n",
        "is_banana_in_tuple = 'banana' in my_tuple\n",
        "print(is_banana_in_tuple)"
      ],
      "metadata": {
        "colab": {
          "base_uri": "https://localhost:8080/"
        },
        "id": "Wj3z0HxJntEX",
        "outputId": "e568b430-f3ae-4a68-8e91-3fe0b981cefb"
      },
      "execution_count": 29,
      "outputs": [
        {
          "output_type": "stream",
          "name": "stdout",
          "text": [
            "True\n"
          ]
        }
      ]
    },
    {
      "cell_type": "code",
      "source": [
        "# Q23. Write a code to create a set with the elements 1, 2, 3, 4, 5 and print it.\n",
        "\n",
        "my_set = {1, 2, 3, 4, 5}\n",
        "print(my_set)"
      ],
      "metadata": {
        "colab": {
          "base_uri": "https://localhost:8080/"
        },
        "id": "Az8vDlLroMfz",
        "outputId": "bc3c91e1-3386-4c4e-fb70-e55d3fc37b15"
      },
      "execution_count": 30,
      "outputs": [
        {
          "output_type": "stream",
          "name": "stdout",
          "text": [
            "{1, 2, 3, 4, 5}\n"
          ]
        }
      ]
    },
    {
      "cell_type": "code",
      "source": [
        "# Q24. Write a code to add the element 6 to the set {1, 2, 3, 4}.\n",
        "\n",
        "my_set = {1, 2, 3, 4}\n",
        "my_set.add(6)\n",
        "print(my_set)"
      ],
      "metadata": {
        "colab": {
          "base_uri": "https://localhost:8080/"
        },
        "id": "DvzXseX7oTbj",
        "outputId": "12b6078f-c346-47bb-dcb2-72cb0d3d905a"
      },
      "execution_count": 31,
      "outputs": [
        {
          "output_type": "stream",
          "name": "stdout",
          "text": [
            "{1, 2, 3, 4, 6}\n"
          ]
        }
      ]
    },
    {
      "cell_type": "markdown",
      "source": [
        "# Thank You Sir/Ma'am\n",
        "Yours Sincerly,\n",
        " Darshan Panchal"
      ],
      "metadata": {
        "id": "ivgpuuCyoesu"
      }
    }
  ]
}